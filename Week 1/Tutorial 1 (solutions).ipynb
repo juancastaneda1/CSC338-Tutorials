{
 "cells": [
  {
   "cell_type": "markdown",
   "metadata": {},
   "source": [
    "# Tutorial 1: Numpy Practice"
   ]
  },
  {
   "cell_type": "markdown",
   "metadata": {},
   "source": [
    "## In this tutorial:\n",
    "- Understand basic numpy code\n",
    "- Practice using numpy matrices and vectors\n",
    "- Vectorization and plotting with matplotlib\n",
    "\n",
    "\n",
    "\n",
    "If you went through the numpy tutorial posted earlier on the course website, you should be familiar with most of the functions used here. Alternatively, just google each function, or look up \"how to ___ using numpy\".\n",
    "\n",
    "If you have any questions, just email me: juan.castaneda@mail.utoronto.ca"
   ]
  },
  {
   "cell_type": "code",
   "execution_count": 2,
   "metadata": {},
   "outputs": [],
   "source": [
    "import numpy as np"
   ]
  },
  {
   "cell_type": "markdown",
   "metadata": {},
   "source": [
    "## Part 1: What is the output of each line of code?\n",
    "\n",
    "Consider the matrices and vectors defined in the cell below. "
   ]
  },
  {
   "cell_type": "code",
   "execution_count": 3,
   "metadata": {},
   "outputs": [
    {
     "name": "stdout",
     "output_type": "stream",
     "text": [
      "M1:\n",
      " [[2. 2.]\n",
      " [2. 2.]]\n",
      "\n",
      "\n",
      "M2:\n",
      " [[1 1 1]\n",
      " [2 2 2]\n",
      " [3 3 3]]\n",
      "\n",
      "\n",
      "M3:\n",
      " [[1 2 3]\n",
      " [4 5 6]\n",
      " [7 8 9]]\n",
      "\n",
      "\n",
      "v1:\n",
      " [5 2 4 1]\n",
      "\n",
      "\n",
      "v2:\n",
      " [2. 4. 6. 8.]\n"
     ]
    }
   ],
   "source": [
    "M1 = np.ones((2,2))*2\n",
    "\n",
    "M2 = np.array([[1, 1, 1],\n",
    "               [2, 2, 2],\n",
    "               [3, 3, 3]])\n",
    "\n",
    "M3 = np.arange(1, 10, 1).reshape((3,3))\n",
    "\n",
    "v1 = np.array([5, 2, 4, 1])\n",
    "\n",
    "v2 = np.linspace(2, 8, 4)\n",
    "\n",
    "print(\"M1:\\n\", M1)\n",
    "print(\"\\n\\nM2:\\n\", M2)\n",
    "print(\"\\n\\nM3:\\n\", M3)\n",
    "print(\"\\n\\nv1:\\n\", v1)\n",
    "print(\"\\n\\nv2:\\n\", v2)"
   ]
  },
  {
   "cell_type": "markdown",
   "metadata": {},
   "source": [
    "#### Write down the output of each of the following lines of code, and then run the cells below to check your answers.\n",
    "If you don't recognize the function, look up the documentation.\n",
    "\n",
    "1. M1*M1\n",
    "\n",
    "\n",
    "2. np.argmax(M3)\n",
    "\n",
    "\n",
    "3. np.max(M3, axis=1)\n",
    "\n",
    "\n",
    "4. np.argsort(v1)\n",
    "\n",
    "\n",
    "5. M2[: : -1]\n",
    "\n",
    "\n",
    "6. np.matmul(M1, M1)\n",
    "\n",
    "\n",
    "7. v2[v1 < 3]\n",
    "\n",
    "\n",
    "8. np.where(M2==3, M3, 0)\n",
    "\n",
    "\n",
    "9. np.linalg.norm(v1)\n",
    "\n",
    "\n",
    "10. M2.T\n",
    "\n",
    "\n",
    "11. M2.shape"
   ]
  },
  {
   "cell_type": "code",
   "execution_count": 4,
   "metadata": {},
   "outputs": [
    {
     "data": {
      "text/plain": [
       "array([[4., 4.],\n",
       "       [4., 4.]])"
      ]
     },
     "execution_count": 4,
     "metadata": {},
     "output_type": "execute_result"
    }
   ],
   "source": [
    "# 1\n",
    "M1*M1"
   ]
  },
  {
   "cell_type": "code",
   "execution_count": 5,
   "metadata": {},
   "outputs": [
    {
     "data": {
      "text/plain": [
       "8"
      ]
     },
     "execution_count": 5,
     "metadata": {},
     "output_type": "execute_result"
    }
   ],
   "source": [
    "# 2\n",
    "np.argmax(M3)"
   ]
  },
  {
   "cell_type": "code",
   "execution_count": 6,
   "metadata": {},
   "outputs": [
    {
     "data": {
      "text/plain": [
       "array([3, 6, 9])"
      ]
     },
     "execution_count": 6,
     "metadata": {},
     "output_type": "execute_result"
    }
   ],
   "source": [
    "# 3\n",
    "np.max(M3, axis=1)"
   ]
  },
  {
   "cell_type": "code",
   "execution_count": 7,
   "metadata": {},
   "outputs": [
    {
     "data": {
      "text/plain": [
       "array([3, 1, 2, 0], dtype=int64)"
      ]
     },
     "execution_count": 7,
     "metadata": {},
     "output_type": "execute_result"
    }
   ],
   "source": [
    "# 4\n",
    "np.argsort(v1)"
   ]
  },
  {
   "cell_type": "code",
   "execution_count": 8,
   "metadata": {},
   "outputs": [
    {
     "data": {
      "text/plain": [
       "array([[3, 3, 3],\n",
       "       [2, 2, 2],\n",
       "       [1, 1, 1]])"
      ]
     },
     "execution_count": 8,
     "metadata": {},
     "output_type": "execute_result"
    }
   ],
   "source": [
    "# 5\n",
    "M2[::-1]"
   ]
  },
  {
   "cell_type": "code",
   "execution_count": 9,
   "metadata": {},
   "outputs": [
    {
     "data": {
      "text/plain": [
       "array([[8., 8.],\n",
       "       [8., 8.]])"
      ]
     },
     "execution_count": 9,
     "metadata": {},
     "output_type": "execute_result"
    }
   ],
   "source": [
    "# 6\n",
    "np.matmul(M1, M1)"
   ]
  },
  {
   "cell_type": "code",
   "execution_count": 10,
   "metadata": {},
   "outputs": [
    {
     "data": {
      "text/plain": [
       "array([4., 8.])"
      ]
     },
     "execution_count": 10,
     "metadata": {},
     "output_type": "execute_result"
    }
   ],
   "source": [
    "# 7\n",
    "v2[v1 < 3]"
   ]
  },
  {
   "cell_type": "code",
   "execution_count": 11,
   "metadata": {},
   "outputs": [
    {
     "data": {
      "text/plain": [
       "array([[0, 0, 0],\n",
       "       [0, 0, 0],\n",
       "       [7, 8, 9]])"
      ]
     },
     "execution_count": 11,
     "metadata": {},
     "output_type": "execute_result"
    }
   ],
   "source": [
    "# 8\n",
    "np.where(M2==3, M3, 0)"
   ]
  },
  {
   "cell_type": "code",
   "execution_count": 12,
   "metadata": {},
   "outputs": [
    {
     "data": {
      "text/plain": [
       "6.782329983125268"
      ]
     },
     "execution_count": 12,
     "metadata": {},
     "output_type": "execute_result"
    }
   ],
   "source": [
    "# 9\n",
    "np.linalg.norm(v1)"
   ]
  },
  {
   "cell_type": "code",
   "execution_count": 13,
   "metadata": {},
   "outputs": [
    {
     "data": {
      "text/plain": [
       "array([[1, 2, 3],\n",
       "       [1, 2, 3],\n",
       "       [1, 2, 3]])"
      ]
     },
     "execution_count": 13,
     "metadata": {},
     "output_type": "execute_result"
    }
   ],
   "source": [
    "# 10\n",
    "M2.T"
   ]
  },
  {
   "cell_type": "code",
   "execution_count": 14,
   "metadata": {},
   "outputs": [
    {
     "data": {
      "text/plain": [
       "(3, 3)"
      ]
     },
     "execution_count": 14,
     "metadata": {},
     "output_type": "execute_result"
    }
   ],
   "source": [
    "# 11\n",
    "M2.shape"
   ]
  },
  {
   "cell_type": "markdown",
   "metadata": {},
   "source": [
    "## Part 2: Simple Matrix Manipulation\n",
    "\n",
    "1. Construct a random 3 × 4 matrix. Call it A. The rows are numbered 0,1,2, and the columns are numbered 0,1,2,3.\n",
    "2. Construct a random 4-dimensional vector (that is, its shape is (4)). Call it x.\n",
    "3. Reshape A into a 6 × 2 matrix. Call the result B. A itself does not change.\n",
    "4. Add vector x to all the rows of matrix A. Call the resulting matrix C. C has the same dimensions as A.\n",
    "5. Change row 0 of matrix A to have the same value as vector x.\n",
    "6. Subtract vector x from row 2 of matrix A and assign the result to row 1 of matrix A. (Only row 1 changes.)\n",
    "7. Print the first three columns of matrix A as a single matrix.\n",
    "8. Print rows 0 and 2 of matrix A as a single matrix.\n",
    "9. Compute the minimum of all the elements in matrix A. The result is a single real number"
   ]
  },
  {
   "cell_type": "code",
   "execution_count": 15,
   "metadata": {},
   "outputs": [
    {
     "name": "stdout",
     "output_type": "stream",
     "text": [
      "[[0.24843446 0.48483539 0.70047785 0.2364507 ]\n",
      " [0.31193302 0.96531065 0.00306734 0.0054857 ]\n",
      " [0.43186312 0.179932   0.53083045 0.3098555 ]]\n"
     ]
    }
   ],
   "source": [
    "# 1\n",
    "A = np.random.random((3,4))\n",
    "print(A)"
   ]
  },
  {
   "cell_type": "code",
   "execution_count": 16,
   "metadata": {},
   "outputs": [
    {
     "name": "stdout",
     "output_type": "stream",
     "text": [
      "[0.59831491 0.49892979 0.28558337 0.27578068]\n"
     ]
    }
   ],
   "source": [
    "# 2\n",
    "x = np.random.random(4)\n",
    "print(x)"
   ]
  },
  {
   "cell_type": "code",
   "execution_count": 17,
   "metadata": {},
   "outputs": [
    {
     "name": "stdout",
     "output_type": "stream",
     "text": [
      "B:\n",
      " [[0.24843446 0.48483539]\n",
      " [0.70047785 0.2364507 ]\n",
      " [0.31193302 0.96531065]\n",
      " [0.00306734 0.0054857 ]\n",
      " [0.43186312 0.179932  ]\n",
      " [0.53083045 0.3098555 ]]\n",
      "\n",
      "A:\n",
      " [[0.24843446 0.48483539 0.70047785 0.2364507 ]\n",
      " [0.31193302 0.96531065 0.00306734 0.0054857 ]\n",
      " [0.43186312 0.179932   0.53083045 0.3098555 ]]\n"
     ]
    }
   ],
   "source": [
    "# 3\n",
    "B = A.reshape((6,2))\n",
    "\n",
    "print(\"B:\\n\", B)\n",
    "print(\"\\nA:\\n\", A)"
   ]
  },
  {
   "cell_type": "code",
   "execution_count": 18,
   "metadata": {},
   "outputs": [
    {
     "name": "stdout",
     "output_type": "stream",
     "text": [
      "C:\n",
      " [[0.84674937 0.98376518 0.98606122 0.51223138]\n",
      " [0.91024792 1.46424044 0.28865071 0.28126638]\n",
      " [1.03017803 0.67886179 0.81641382 0.58563618]]\n",
      "\n",
      "A:\n",
      " [[0.24843446 0.48483539 0.70047785 0.2364507 ]\n",
      " [0.31193302 0.96531065 0.00306734 0.0054857 ]\n",
      " [0.43186312 0.179932   0.53083045 0.3098555 ]]\n"
     ]
    }
   ],
   "source": [
    "# 4\n",
    "C = A + x\n",
    "\n",
    "print(\"C:\\n\", C)\n",
    "print(\"\\nA:\\n\", A)"
   ]
  },
  {
   "cell_type": "code",
   "execution_count": 19,
   "metadata": {},
   "outputs": [
    {
     "name": "stdout",
     "output_type": "stream",
     "text": [
      "A:\n",
      " [[0.59831491 0.49892979 0.28558337 0.27578068]\n",
      " [0.31193302 0.96531065 0.00306734 0.0054857 ]\n",
      " [0.43186312 0.179932   0.53083045 0.3098555 ]]\n"
     ]
    }
   ],
   "source": [
    "# 5\n",
    "\n",
    "A[0] = x\n",
    "print(\"A:\\n\", A)"
   ]
  },
  {
   "cell_type": "code",
   "execution_count": 20,
   "metadata": {},
   "outputs": [
    {
     "name": "stdout",
     "output_type": "stream",
     "text": [
      "[[ 0.59831491  0.49892979  0.28558337  0.27578068]\n",
      " [-0.16645179 -0.31899779  0.24524708  0.03407482]\n",
      " [ 0.43186312  0.179932    0.53083045  0.3098555 ]]\n"
     ]
    }
   ],
   "source": [
    "# 6\n",
    "\n",
    "A[1] = A[2] - x\n",
    "\n",
    "print(A)"
   ]
  },
  {
   "cell_type": "code",
   "execution_count": 21,
   "metadata": {},
   "outputs": [
    {
     "name": "stdout",
     "output_type": "stream",
     "text": [
      "[[ 0.59831491  0.49892979  0.28558337]\n",
      " [-0.16645179 -0.31899779  0.24524708]\n",
      " [ 0.43186312  0.179932    0.53083045]]\n"
     ]
    }
   ],
   "source": [
    "# 7\n",
    "print(A[:, :3])"
   ]
  },
  {
   "cell_type": "code",
   "execution_count": 22,
   "metadata": {},
   "outputs": [
    {
     "name": "stdout",
     "output_type": "stream",
     "text": [
      "[[0.59831491 0.49892979 0.28558337 0.27578068]\n",
      " [0.43186312 0.179932   0.53083045 0.3098555 ]]\n"
     ]
    }
   ],
   "source": [
    "# 8\n",
    "print(A[[0,2], :])"
   ]
  },
  {
   "cell_type": "code",
   "execution_count": 23,
   "metadata": {},
   "outputs": [
    {
     "name": "stdout",
     "output_type": "stream",
     "text": [
      "-0.3189977870750811\n"
     ]
    }
   ],
   "source": [
    "# 9\n",
    "print(np.min(A))"
   ]
  },
  {
   "cell_type": "markdown",
   "metadata": {},
   "source": [
    "## Part 3: Vectorization and plotting\n",
    "\n",
    "1. Plot $sin(\\pi x)$ on the interval [0,2], using 50 evenly spaced points. Plot it in green. Do the same for $x^2$, but plot it using red dots. Title the plot and axes, and provide a legend.\n",
    "\n",
    "\n",
    "2. Write a function fun(x) that returns x + 1. Now generate a random matrix of size (10 x 10) and compare the time it takes to add 1 to every element in the matrix using nested for loops vs. using vectorization (ie. using fun(x)). Use the time.time() function to keep track of the time. Repeat this process for matrices of size (100 x 100), (1000 x 1000), and (5000 x 5000). Create a plot of how long each method takes for each matrix size.\n",
    "\n",
    "\n",
    "Note that keeping track of how long an iterative process has run can be helpful for predicting how much time is left. For example, print out the ellapsed time every 1000 iterations. Or run code on a smaller subset of your dataset to see how long it takes, and estimate how long it would take to run on the full dataset (is it linear runtime? quadratic? etc.)"
   ]
  },
  {
   "cell_type": "code",
   "execution_count": 24,
   "metadata": {},
   "outputs": [],
   "source": [
    "import matplotlib.pyplot as plt"
   ]
  },
  {
   "cell_type": "code",
   "execution_count": 25,
   "metadata": {},
   "outputs": [
    {
     "data": {
      "image/png": "[encoded data removed]",
      "text/plain": [
       "<Figure size 432x288 with 1 Axes>"
      ]
     },
     "metadata": {
      "needs_background": "light"
     },
     "output_type": "display_data"
    }
   ],
   "source": [
    "# create a vector of 50 evenly spaced points between 0 and 2\n",
    "x = np.linspace(0, 2, 50)\n",
    "\n",
    "# vectors for y1 and y2\n",
    "y1 = np.sin(x*np.pi)\n",
    "y2 = x**2\n",
    "\n",
    "# plot y1 and y2\n",
    "plt.plot(x, y1, 'g', label=\"y = sin(pi*x)\")\n",
    "plt.plot(x, y2, 'r.', label=\"y = x^2\")\n",
    "\n",
    "# plot and axes titles\n",
    "plt.title(\"Plotting some functions\")\n",
    "plt.xlabel(\"x\")\n",
    "plt.ylabel(\"y\")\n",
    "\n",
    "# include legend\n",
    "plt.legend(loc=\"upper left\")\n",
    "\n",
    "# show plot\n",
    "plt.show()"
   ]
  },
  {
   "cell_type": "code",
   "execution_count": 26,
   "metadata": {},
   "outputs": [
    {
     "data": {
      "image/png": "[encoded data removed]",
      "text/plain": [
       "<Figure size 432x288 with 1 Axes>"
      ]
     },
     "metadata": {
      "needs_background": "light"
     },
     "output_type": "display_data"
    }
   ],
   "source": [
    "import time\n",
    "\n",
    "def fun(x):\n",
    "    return x+1\n",
    "\n",
    "size = [10, 100, 1000, 5000]\n",
    "times_nested = []\n",
    "times_vectorized = []\n",
    "\n",
    "for n in size:\n",
    "    M = np.random.random((n, n))\n",
    "    \n",
    "    # method 1: nested for loops\n",
    "    start_time = time.time()\n",
    "    for i in range(M.shape[0]):\n",
    "        for j in range(M.shape[1]):\n",
    "            M[i,j] += 1\n",
    "    runtime = time.time() - start_time\n",
    "    times_nested.append(runtime)\n",
    "    \n",
    "    \n",
    "    # method 2: vectorization\n",
    "    start_time = time.time()\n",
    "    M = fun(M)\n",
    "    runtime = time.time() - start_time\n",
    "    times_vectorized.append(runtime)\n",
    "\n",
    "    \n",
    "# plotting runtimes\n",
    "plt.plot(size, times_vectorized, 'bo', label=\"vectorization\") \n",
    "plt.plot(size, times_nested, 'rx', label=\"nested loops\")    \n",
    "plt.xlabel(\"Matrix size\")\n",
    "plt.ylabel(\"Runtime (seconds)\")\n",
    "plt.legend(loc=\"upper left\")\n",
    "plt.show()"
   ]
  },
  {
   "cell_type": "code",
   "execution_count": 27,
   "metadata": {},
   "outputs": [
    {
     "name": "stdout",
     "output_type": "stream",
     "text": [
      "[0.0, 0.0, 0.003979206085205078, 0.10094213485717773]\n"
     ]
    }
   ],
   "source": [
    "print(times_vectorized)"
   ]
  },
  {
   "cell_type": "markdown",
   "metadata": {},
   "source": [
    "Moral of the story: avoid using loops (especially nested ones) whenever possible"
   ]
  }
 ],
 "metadata": {
  "kernelspec": {
   "display_name": "Python 3",
   "language": "python",
   "name": "python3"
  },
  "language_info": {
   "codemirror_mode": {
    "name": "ipython",
    "version": 3
   },
   "file_extension": ".py",
   "mimetype": "text/x-python",
   "name": "python",
   "nbconvert_exporter": "python",
   "pygments_lexer": "ipython3",
   "version": "3.7.6"
  }
 },
 "nbformat": 4,
 "nbformat_minor": 4
}
