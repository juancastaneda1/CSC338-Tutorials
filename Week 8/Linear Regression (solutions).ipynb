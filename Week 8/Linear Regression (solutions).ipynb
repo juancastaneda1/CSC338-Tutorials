{
 "cells": [
  {
   "cell_type": "markdown",
   "metadata": {},
   "source": [
    "# Curve fitting using linear least squares in numpy"
   ]
  },
  {
   "cell_type": "code",
   "execution_count": 1,
   "metadata": {},
   "outputs": [],
   "source": [
    "import numpy as np\n",
    "import matplotlib.pyplot as plt\n",
    "import pickle"
   ]
  },
  {
   "cell_type": "markdown",
   "metadata": {},
   "source": [
    "In this problem you will write a Python program to fit a curve to data using linear\n",
    "least-squares. First, download the file data2.pickle.zip from the course web site.\n",
    "Uncompress it (if your browser did not automatically do it). Start the Python interpreter and import the pickle module. You can then read the file data2.pickle with\n",
    "the following command:"
   ]
  },
  {
   "cell_type": "code",
   "execution_count": 2,
   "metadata": {},
   "outputs": [],
   "source": [
    "with open('data2.pickle', 'rb') as f:\n",
    "        data = pickle.load(f, encoding='latin1')"
   ]
  },
  {
   "cell_type": "markdown",
   "metadata": {},
   "source": [
    "The variable data will now contain a 2 × 50 Numpy array. Each column of the array\n",
    "represents a 2-dimensional point, (ti, yi). The data is illustrated in the scatter plot in\n",
    "Figure 1 below. \n",
    "\n",
    "Your job is to fit a trigonometric polynomial of degree 4 to this data.\n",
    "Specifically, you are to estimate the coefficients x = (x0, x1, ..., x4) in the following\n",
    "function:\n",
    "\n",
    "$y(t) = x_0 + x_1sin (t) + x_2sin(2t) + x_3 sin (3t) + x_4 sin (4t)$\n",
    "\n",
    "You should formulate this as a least-squares problem, $min_x||Ax − b||^2$, and solve for x.\n"
   ]
  },
  {
   "cell_type": "code",
   "execution_count": 3,
   "metadata": {},
   "outputs": [
    {
     "data": {
      "image/png": "[encoded data removed]",
      "text/plain": [
       "<Figure size 432x288 with 1 Axes>"
      ]
     },
     "metadata": {
      "needs_background": "light"
     },
     "output_type": "display_data"
    }
   ],
   "source": [
    "ti = data[0]\n",
    "yi = data[1]\n",
    "\n",
    "plt.plot(ti, yi, 'b.')\n",
    "plt.title(\"Data to be fitted\")\n",
    "plt.xlabel(\"t\")\n",
    "plt.ylabel(\"y\")\n",
    "plt.show()"
   ]
  },
  {
   "cell_type": "markdown",
   "metadata": {},
   "source": [
    "## Some conceptual review before starting:\n",
    "\n",
    "#### 1) Why is this problem considered \"linear\" regression if we are fitting an expression that involves sinusoidal functions?\n",
    "\n",
    "   Answer: Notice that the sin functions are functions of t, but the equation is linear in terms of x (which is the variable   \n",
    "           we are fitting.\n",
    "\n",
    "#### 2) Why are we using trigonometric functions to fit what looks like a polynomial?\n",
    "\n",
    "   Answer: Recall that we can use Taylor series to approximate functions using polynomials. A similar thing can be done using sinusoidal functions, by way of the Discrete Fourier Transform (note that the actual Fourier Transform has sin and cosine terms). In other words, we can approximate the function using an infinite sum of sinusoidal functions with different frequencies.\n",
    "\n",
    "Since we don't actually know what type of equation we are dealing with, we instead take the first few terms of that infinite sum and fit that instead. The shape of our fitted curve depends on the weights we give to each of those terms in the summation. The fitting process is our attempt to find the best weights (these are our $x_0$, $x_1$, $x_2$, $x_3$,and $x_4$ values) so that the shape of our fitted function is as close as possible to the data in the figure above.\n",
    "\n",
    "The measure of \"closeness\" is the least squares distance. In other words, the \"best\" weights/coefficients are the ones that minimize the sum of the squared distances between the data points and our fitted curve.\n",
    "\n",
    "### (a) Construct the matrix A and the vector b from the data. "
   ]
  },
  {
   "cell_type": "code",
   "execution_count": 4,
   "metadata": {},
   "outputs": [],
   "source": [
    "#(a)\n",
    "\n",
    "# the vector b is simply the \"y\" values from the data\n",
    "b = data[1]\n",
    "\n",
    "\n",
    "# Constructing the matrix A:\n",
    "\n",
    "# recall that the matrix contains the terms in our function (minus the coefficients of course)\n",
    "def f1(x):\n",
    "    return np.sin(x)\n",
    "def f2(x):\n",
    "    return np.sin(2*x)\n",
    "def f3(x):\n",
    "    return np.sin(3*x)\n",
    "def f4(x):\n",
    "    return np.sin(4*x)\n",
    "\n",
    "\n",
    "t = data[0]\n",
    "col1 = np.ones(50)\n",
    "col2 = f1(t)\n",
    "col3 = f2(t)\n",
    "col4 = f3(t)\n",
    "col5 = f4(t)\n",
    "A = np.column_stack((col1, col2, col3, col4, col5))"
   ]
  },
  {
   "cell_type": "markdown",
   "metadata": {},
   "source": [
    "### (b) Use the function lstsq in numpy.linalg to solve the least-squares problem. (Note that lstsq returns several values.)\n",
    "\n",
    "Documentation here:\n",
    "https://numpy.org/doc/stable/reference/generated/numpy.linalg.lstsq.html"
   ]
  },
  {
   "cell_type": "code",
   "execution_count": 5,
   "metadata": {},
   "outputs": [
    {
     "name": "stderr",
     "output_type": "stream",
     "text": [
      "C:\\Users\\Juan\\anaconda3\\lib\\site-packages\\ipykernel_launcher.py:2: FutureWarning: `rcond` parameter will change to the default of machine precision times ``max(M, N)`` where M and N are the input matrix dimensions.\n",
      "To use the future default and silence this warning we advise to pass `rcond=None`, to keep using the old, explicitly pass `rcond=-1`.\n",
      "  \n"
     ]
    }
   ],
   "source": [
    "#(b)\n",
    "x = np.linalg.lstsq(A, b)[0]\n"
   ]
  },
  {
   "cell_type": "markdown",
   "metadata": {},
   "source": [
    "### (c) Print out the estimated values of the coefficients xi."
   ]
  },
  {
   "cell_type": "code",
   "execution_count": 6,
   "metadata": {},
   "outputs": [
    {
     "name": "stdout",
     "output_type": "stream",
     "text": [
      "x0 =  1.3933104193567658\n",
      "x1 =  1.2624055607134144\n",
      "x2 =  2.5090905088500173\n",
      "x3 =  -1.8377865833334541\n",
      "x4 =  2.2890978530820956\n"
     ]
    }
   ],
   "source": [
    "#(c)\n",
    "print(\"x0 = \", x[0])\n",
    "print(\"x1 = \", x[1])\n",
    "print(\"x2 = \", x[2])\n",
    "print(\"x3 = \", x[3])\n",
    "print(\"x4 = \", x[4])\n"
   ]
  },
  {
   "cell_type": "markdown",
   "metadata": {},
   "source": [
    "### (d) Plot the fitted polynomial (in green) using 1000 equally spaced values of t between 0 and 4. Plot the 50 data points (in blue) on top of the polynomial. "
   ]
  },
  {
   "cell_type": "code",
   "execution_count": 7,
   "metadata": {},
   "outputs": [
    {
     "data": {
      "image/png": "[encoded data removed]",
      "text/plain": [
       "<Figure size 432x288 with 1 Axes>"
      ]
     },
     "metadata": {
      "needs_background": "light"
     },
     "output_type": "display_data"
    }
   ],
   "source": [
    "#(d)\n",
    "\n",
    "# fitted polynomial\n",
    "def fit(t):\n",
    "    return x[0] + x[1]*f1(t) + x[2]*f2(t) + x[3]*f3(t) + x[4]*f4(t)\n",
    "t2 = np.linspace(0, 4, 1000)\n",
    "y = fit(t2)\n",
    "\n",
    "plt.plot(t, b, 'bo', t2, y, 'g-')\n",
    "plt.title(\"Data and Fitted Polynomial\")\n",
    "plt.show()\n",
    "\n",
    "\n"
   ]
  },
  {
   "cell_type": "markdown",
   "metadata": {},
   "source": [
    "### (e) (2 points) Compute the error, $||Ax − b||$. If you have done everything correctly, the error should be less than 6.5."
   ]
  },
  {
   "cell_type": "code",
   "execution_count": 8,
   "metadata": {},
   "outputs": [
    {
     "name": "stdout",
     "output_type": "stream",
     "text": [
      "||Ax-b|| =  6.4530254890251255\n"
     ]
    }
   ],
   "source": [
    "#(e)\n",
    "print(\"||Ax-b|| = \", np.linalg.norm(np.matmul(A, x)- b))"
   ]
  },
  {
   "cell_type": "code",
   "execution_count": null,
   "metadata": {},
   "outputs": [],
   "source": []
  }
 ],
 "metadata": {
  "kernelspec": {
   "display_name": "Python 3",
   "language": "python",
   "name": "python3"
  },
  "language_info": {
   "codemirror_mode": {
    "name": "ipython",
    "version": 3
   },
   "file_extension": ".py",
   "mimetype": "text/x-python",
   "name": "python",
   "nbconvert_exporter": "python",
   "pygments_lexer": "ipython3",
   "version": "3.7.6"
  }
 },
 "nbformat": 4,
 "nbformat_minor": 4
}
