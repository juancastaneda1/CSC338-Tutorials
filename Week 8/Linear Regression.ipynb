{
 "cells": [
  {
   "cell_type": "markdown",
   "metadata": {},
   "source": [
    "# Curve fitting using linear least squares in numpy"
   ]
  },
  {
   "cell_type": "code",
   "execution_count": 1,
   "metadata": {},
   "outputs": [],
   "source": [
    "import numpy as np\n",
    "import matplotlib.pyplot as plt\n",
    "import pickle"
   ]
  },
  {
   "cell_type": "markdown",
   "metadata": {},
   "source": [
    "In this problem you will write a Python program to fit a curve to data using linear\n",
    "least-squares. First, download the file data2.pickle.zip from the course web site.\n",
    "Uncompress it (if your browser did not automatically do it). Start the Python interpreter and import the pickle module. You can then read the file data2.pickle with\n",
    "the following command:"
   ]
  },
  {
   "cell_type": "code",
   "execution_count": 2,
   "metadata": {},
   "outputs": [],
   "source": [
    "with open('data2.pickle', 'rb') as f:\n",
    "        data = pickle.load(f, encoding='latin1')"
   ]
  },
  {
   "cell_type": "markdown",
   "metadata": {},
   "source": [
    "The variable data will now contain a 2 × 50 Numpy array. Each column of the array\n",
    "represents a 2-dimensional point, (ti, yi). The data is illustrated in the scatter plot in\n",
    "Figure 1 below. \n",
    "\n",
    "Your job is to fit a trigonometric polynomial of degree 4 to this data.\n",
    "Specifically, you are to estimate the coefficients x = (x0, x1, ..., x4) in the following\n",
    "function:\n",
    "\n",
    "$y(t) = x_0 + x_1sin (t) + x_2sin(2t) + x_3 sin (3t) + x_4 sin (4t)$\n",
    "\n",
    "You should formulate this as a least-squares problem, $min_x||Ax − b||^2$, and solve for x.\n"
   ]
  },
  {
   "cell_type": "code",
   "execution_count": 3,
   "metadata": {},
   "outputs": [
    {
     "data": {
      "image/png": "[encoded data removed]",
      "text/plain": [
       "<Figure size 432x288 with 1 Axes>"
      ]
     },
     "metadata": {
      "needs_background": "light"
     },
     "output_type": "display_data"
    }
   ],
   "source": [
    "ti = data[0]\n",
    "yi = data[1]\n",
    "\n",
    "plt.plot(ti, yi, 'b.')\n",
    "plt.title(\"Data to be fitted\")\n",
    "plt.xlabel(\"t\")\n",
    "plt.ylabel(\"y\")\n",
    "plt.show()"
   ]
  },
  {
   "cell_type": "markdown",
   "metadata": {},
   "source": [
    "## Some conceptual review before starting:\n",
    "\n",
    "#### 1) Why is this problem considered \"linear\" regression if we are fitting an expression that involves sinusoidal functions?\n",
    "\n",
    "   \n",
    "\n",
    "#### 2) Why are we using trigonometric functions to fit what looks like a polynomial?\n",
    "\n",
    "   \n",
    "\n",
    "### (a) Construct the matrix A and the vector b from the data. "
   ]
  },
  {
   "cell_type": "code",
   "execution_count": 4,
   "metadata": {},
   "outputs": [],
   "source": [
    "#(a)\n",
    "\n",
    "# the vector b\n",
    "\n",
    "\n",
    "# Constructing the matrix A:\n",
    "\n"
   ]
  },
  {
   "cell_type": "markdown",
   "metadata": {},
   "source": [
    "### (b) Use the function lstsq in numpy.linalg to solve the least-squares problem. (Note that lstsq returns several values.)\n",
    "\n",
    "Documentation here:\n",
    "https://numpy.org/doc/stable/reference/generated/numpy.linalg.lstsq.html"
   ]
  },
  {
   "cell_type": "code",
   "execution_count": 5,
   "metadata": {},
   "outputs": [],
   "source": [
    "#(b)\n",
    "\n"
   ]
  },
  {
   "cell_type": "markdown",
   "metadata": {},
   "source": [
    "### (c) Print out the estimated values of the coefficients xi."
   ]
  },
  {
   "cell_type": "code",
   "execution_count": 6,
   "metadata": {},
   "outputs": [],
   "source": [
    "#(c)\n",
    "\n"
   ]
  },
  {
   "cell_type": "markdown",
   "metadata": {},
   "source": [
    "### (d) Plot the fitted polynomial (in green) using 1000 equally spaced values of t between 0 and 4. Plot the 50 data points (in blue) on top of the polynomial. "
   ]
  },
  {
   "cell_type": "code",
   "execution_count": 7,
   "metadata": {},
   "outputs": [],
   "source": [
    "#(d)\n",
    "\n",
    "\n"
   ]
  },
  {
   "cell_type": "markdown",
   "metadata": {},
   "source": [
    "### (e) (2 points) Compute the error, $||Ax − b||$. If you have done everything correctly, the error should be less than 6.5."
   ]
  },
  {
   "cell_type": "code",
   "execution_count": 8,
   "metadata": {},
   "outputs": [],
   "source": [
    "#(e)\n",
    "\n"
   ]
  },
  {
   "cell_type": "code",
   "execution_count": null,
   "metadata": {},
   "outputs": [],
   "source": []
  }
 ],
 "metadata": {
  "kernelspec": {
   "display_name": "Python 3",
   "language": "python",
   "name": "python3"
  },
  "language_info": {
   "codemirror_mode": {
    "name": "ipython",
    "version": 3
   },
   "file_extension": ".py",
   "mimetype": "text/x-python",
   "name": "python",
   "nbconvert_exporter": "python",
   "pygments_lexer": "ipython3",
   "version": "3.7.6"
  }
 },
 "nbformat": 4,
 "nbformat_minor": 4
}
